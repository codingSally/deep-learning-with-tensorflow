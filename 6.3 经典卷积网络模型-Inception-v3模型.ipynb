{
 "cells": [
  {
   "cell_type": "code",
   "execution_count": 1,
   "metadata": {},
   "outputs": [],
   "source": [
    "# Inception结构是一种和LeNet-5结构完全不同的卷积神经网络结构，在LeNet-5模型中，不同卷积层通过串联的方式连接在一起，\n",
    "# 而Inception-v3模型中的Inception结构是将不同的卷积层通过并联的方式结合在一起\n",
    "# Inception-v3模型总共有46层，由11个Inception模块组成"
   ]
  },
  {
   "cell_type": "markdown",
   "metadata": {},
   "source": [
    "# 一、 tf-slim实现卷积层示例"
   ]
  },
  {
   "cell_type": "code",
   "execution_count": null,
   "metadata": {},
   "outputs": [],
   "source": [
    "import tensorflow as tf\n",
    "\n",
    "# 如果按照LeNet-5方式实现Inception-v3，那么代码量会非常大，可读性会非常差\n",
    "# 所以需要引用TensorFlow-Slim工具类更加简洁的实现一个卷积层\n",
    "\n",
    "# 直接使用TensorFlow原始API实现卷积层\n",
    "with tf.variable_scope(scope_name):\n",
    "    weights = tf.get_variable(\"weight\", ...)\n",
    "    biases = tf.get_variable(\"bias\", ...)\n",
    "    conv = tf.nn.conv2d(...)\n",
    "    relu = tf.nn.relu(tf.nn.bias_add(conv, biases))\n",
    "    \n",
    "# 使用TensorFlow-Slim实现卷积层\n",
    "net = slim.conv2d(input, 32, [3,3])"
   ]
  },
  {
   "cell_type": "markdown",
   "metadata": {},
   "source": [
    "# 二、tf-slim实现Inception模块"
   ]
  },
  {
   "cell_type": "code",
   "execution_count": 3,
   "metadata": {},
   "outputs": [],
   "source": [
    "import tensorflow as tf"
   ]
  },
  {
   "cell_type": "code",
   "execution_count": null,
   "metadata": {},
   "outputs": [],
   "source": [
    "# 加载slim库\n",
    "slim = tf.contrib.slim\n",
    "\n",
    "# slim.arg_scope函数可以用于设置默认的参数取值\n",
    "with slim.arg_scope([slim.conv2d, slim.max_pool2d, slim.avg_pool2d], stride = 1, padding = 'VALID'):\n",
    "    # 假设输入图片经过之前的神经网络前向传播的结果保存在变量net中\n",
    "    net = 上一层的输出节点矩阵\n",
    "    \n",
    "    # 为一个Inception模块声明一个统一的变量命名空间\n",
    "    with th.variable_scope('Mixed_7c'):\n",
    "        # 给Inception模块中每一条路径声明一个命名空间\n",
    "        with tf.variable_scope('Branch_0'):\n",
    "            branch_0 = slim.conv2d(net, 320, [1,1], scope = 'Conv2d_0a_1*1')\n",
    "        \n",
    "        # Inception模块中的第二条路径\n",
    "        # 这条计算路径上的结构本身也是一个Inception结构\n",
    "        with tf.variable_scope('Branch_1'):\n",
    "            branch_1 = slim.conv2d(net, 384, [1,1], scope = 'Conv2d_0a_1*1')\n",
    "            # tf.contact可以将多个矩阵拼接起来\n",
    "            branch_1 = tf.concat(3, [\n",
    "                # 此处二层卷积层的输入是branch_1,而不是net\n",
    "                slim.conv2d(branch_1, 384, [1,3], scope = 'Conv2d_0b_1*3')\n",
    "                slim.conv2d(branch_1, 384, [3,1], scope = 'Conv2d_0c_3*1')\n",
    "            ])\n",
    "            \n",
    "        # Inception 模块中第三条路径，此计算路径也是一个Inception结构\n",
    "        with tf.variable_scope('Branch_2'):\n",
    "            branch_2 = slim.conv2d(\n",
    "                net, 448, [1,1], scope = 'Conv2d_0a_1*1')\n",
    "            branch_2 = slim.conv2d(\n",
    "                branch_2, 384, [3,3], scope = 'Conv2d_0b_3*3')\n",
    "            branch_2 = tf.concat(3, [\n",
    "                # 此处二层卷积层的输入是branch_1,而不是net\n",
    "                slim.conv2d(branch_2, 384, [1,3], scope = 'Conv2d_0c_1*3')\n",
    "                slim.conv2d(branch_2, 384, [3,1], scope = 'Conv2d_0c_3*1')\n",
    "            ])\n",
    "            \n",
    "        # Inception模块中第四条路径\n",
    "        with tf.variable_scope('Branch_3'):\n",
    "            branch_3 = slim.avg_pool2d(\n",
    "                net, [3,3], scope = 'AvgPool_0a_3*3')\n",
    "            branch_3 = slim.conv2d(\n",
    "                branch_3, 192, [1,1], scope = 'Conv2d_0b_1*1')\n",
    "            \n",
    "        # 当前Inception模块的最后输出是由上面4个计算结果拼接得到的\n",
    "        net = tf.concat(3, [branch_0, branch_1, branch_2, branch_3])"
   ]
  }
 ],
 "metadata": {
  "kernelspec": {
   "display_name": "Python 3",
   "language": "python",
   "name": "python3"
  },
  "language_info": {
   "codemirror_mode": {
    "name": "ipython",
    "version": 3
   },
   "file_extension": ".py",
   "mimetype": "text/x-python",
   "name": "python",
   "nbconvert_exporter": "python",
   "pygments_lexer": "ipython3",
   "version": "3.8.2"
  }
 },
 "nbformat": 4,
 "nbformat_minor": 4
}
