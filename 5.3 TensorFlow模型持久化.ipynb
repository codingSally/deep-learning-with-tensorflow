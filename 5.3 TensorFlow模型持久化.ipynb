{
 "cells": [
  {
   "cell_type": "markdown",
   "metadata": {},
   "source": [
    "# 一、持久化代码实现"
   ]
  },
  {
   "cell_type": "code",
   "execution_count": 1,
   "metadata": {},
   "outputs": [],
   "source": [
    "# TensorFlow提供一个非常简单的API来保存和还原一个神经网络模型\n",
    "# 这个API就是tf.train.Saver类\n",
    "# 一般会存储在后缀为.ckpt的文件中\n",
    "import tensorflow as tf"
   ]
  },
  {
   "cell_type": "code",
   "execution_count": null,
   "metadata": {},
   "outputs": [],
   "source": [
    "# 1. 保存\n",
    "\n",
    "# 声明两个变量并计算他们的和\n",
    "V1 = tf.Variable(tf.constant(1.0, shape=[1]), name = \"v1\")\n",
    "V2 = tf.Variable(tf.constant(2.0, shape=[1]), name = \"v1\")\n",
    "result = V1 + V2\n",
    "\n",
    "init_op = tf.global_variable_initializer()\n",
    "\n",
    "# 声明tf.train.Saver用于保存模型\n",
    "saver = tf.train.Saver()\n",
    "\n",
    "with tf.Session() as sess:\n",
    "    sess.run(init_op)\n",
    "    # 将模型保存到/path/to/model/model.ckpt文件\n",
    "    saver.save(sess, \"/path/to/model/model.ckpt\")"
   ]
  },
  {
   "cell_type": "code",
   "execution_count": null,
   "metadata": {},
   "outputs": [],
   "source": [
    "# 2. 加载\n",
    "# 2.1 加载已经保存好的模型\n",
    "\n",
    "# 声明两个变量并计算他们的和\n",
    "V1 = tf.Variable(tf.constant(1.0, shape=[1]), name = \"v1\")\n",
    "V2 = tf.Variable(tf.constant(2.0, shape=[1]), name = \"v1\")\n",
    "result = V1 + V2\n",
    "\n",
    "init_op = tf.global_variable_initializer()\n",
    "\n",
    "# 声明tf.train.Saver用于保存模型\n",
    "saver = tf.train.Saver()\n",
    "\n",
    "with tf.Session() as sess:\n",
    "    saver.restore(sess, \"/path/to/model/model.ckpt\")\n",
    "    print sess.run(result)"
   ]
  },
  {
   "cell_type": "code",
   "execution_count": null,
   "metadata": {},
   "outputs": [],
   "source": [
    "# 2.2 如果不希望重复定义图上的运算，也可以直接加载已经持久化的图\n",
    "\n",
    "saver = tf.train.import_meta_graph(\n",
    "        \"/path/to/model/model.ckpt/model.ckpt.meta\")\n",
    "\n",
    "with tf.Session() as sess:\n",
    "    saver.restore(sess, \"/path/to/model/model.ckpt\")\n",
    "    # 通过张量的名称来获取张量\n",
    "    print sess.run(tf.get_default_graph().get_tensor_by_name(\"add:0\"))"
   ]
  },
  {
   "cell_type": "markdown",
   "metadata": {},
   "source": [
    "# 二、持久化原理及数据格式"
   ]
  },
  {
   "cell_type": "code",
   "execution_count": null,
   "metadata": {},
   "outputs": [],
   "source": [
    "# TensorFlow通过元图(MetaGraph)来记录计算图中节点的信息以及运行计算图中节点所需要的元数据\n",
    "# TensorFlow中元图是由MetaGraphDef Protocol Buffer定义的"
   ]
  }
 ],
 "metadata": {
  "kernelspec": {
   "display_name": "Python 3",
   "language": "python",
   "name": "python3"
  },
  "language_info": {
   "codemirror_mode": {
    "name": "ipython",
    "version": 3
   },
   "file_extension": ".py",
   "mimetype": "text/x-python",
   "name": "python",
   "nbconvert_exporter": "python",
   "pygments_lexer": "ipython3",
   "version": "3.8.2"
  }
 },
 "nbformat": 4,
 "nbformat_minor": 4
}
