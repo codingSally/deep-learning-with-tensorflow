{
 "cells": [
  {
   "cell_type": "code",
   "execution_count": 2,
   "metadata": {},
   "outputs": [],
   "source": [
    "# LSTM结构的循环神经网络的前向传播过程\n",
    "import tensorflow as tf"
   ]
  },
  {
   "cell_type": "code",
   "execution_count": null,
   "metadata": {},
   "outputs": [],
   "source": [
    "# 定义一个LSTM结构\n",
    "lstm = tf.nn.rnn_cell.BasicLSTMCell(lstm_hidden_size)\n",
    "\n",
    "# 将LSTM中的状态初始化为全0的数组\n",
    "state = lstm.zero_state(batch_size, tf.float32)\n",
    "\n",
    "# 定义损失函数\n",
    "loss = 0.0\n",
    "\n",
    "# num_steps表示序列长度 -- 通过dynamic_rnn可以动态处理变长序列的方法\n",
    "for i in range(num_steps):\n",
    "    # 在第一时刻声明LSTM结构中使用的变量，在之后的时刻需要复用之前定义好的变量\n",
    "    if i > 0 : tf.get_variable_scope().reuse_variables()\n",
    "        \n",
    "    # 每一步处理时间序列中的一个时刻\n",
    "    lstm_output, state = lstm(current_input, state)\n",
    "    \n",
    "    # 将当前时刻LSTM结构的输出传入一个全连接层得到最后的输出\n",
    "    final_output = full_connected(lstm_output)\n",
    "    \n",
    "    # 计算当前时刻输出的损失\n",
    "    loss += calc_loss(final_output, expected_output)\n",
    "\n",
    "# 训练模型\n",
    "#。。。。。。"
   ]
  }
 ],
 "metadata": {
  "kernelspec": {
   "display_name": "Python 3",
   "language": "python",
   "name": "python3"
  },
  "language_info": {
   "codemirror_mode": {
    "name": "ipython",
    "version": 3
   },
   "file_extension": ".py",
   "mimetype": "text/x-python",
   "name": "python",
   "nbconvert_exporter": "python",
   "pygments_lexer": "ipython3",
   "version": "3.8.2"
  }
 },
 "nbformat": 4,
 "nbformat_minor": 4
}
