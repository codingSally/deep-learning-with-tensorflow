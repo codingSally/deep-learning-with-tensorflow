{
 "cells": [
  {
   "cell_type": "code",
   "execution_count": 1,
   "metadata": {},
   "outputs": [],
   "source": [
    "# 循环神经网络前向传播实现"
   ]
  },
  {
   "cell_type": "code",
   "execution_count": null,
   "metadata": {},
   "outputs": [],
   "source": [
    "import numpy as np \n",
    "\n",
    "X = [1,2]\n",
    "state = [0.0,0.0]\n",
    "\n",
    "# 分开定义不同输入部分的权重以方便操作\n",
    "w_cell_state = np.asarray([0.1, 0.2], [0.3, 0.4])\n",
    "w_cell_input = np.asarray([0.5, 0.6])\n",
    "b_cell = np.asarray([0.1, -0.1])\n",
    "\n",
    "# 定义用于输出的全连接层参数\n",
    "w_output = np.asarray([[1.0], [2.0]])\n",
    "b_output = 0.1\n",
    "\n",
    "# 按照时间顺序执行循环神经网络的前向传播过程\n",
    "for i in range(len(X)):\n",
    "    # 计算循环体中的全连接层神经网络\n",
    "    before_activation = np.dot(state, w_cell_state) + X[i] * w_cell_input + b_cell\n",
    "    \n",
    "    state = np.tanh(before_activation)\n",
    "    \n",
    "    # 根据当前时刻状态计算最终输出\n",
    "    final_output = np.dot(state, w_output) + b_output\n",
    "    \n",
    "    # 输出每个时刻的信息\n",
    "    print(\"before_activation\" + before_activation)\n",
    "    print(\"state\" + state)\n",
    "    print(\"final_output\" + final_output)"
   ]
  }
 ],
 "metadata": {
  "kernelspec": {
   "display_name": "Python 3",
   "language": "python",
   "name": "python3"
  },
  "language_info": {
   "codemirror_mode": {
    "name": "ipython",
    "version": 3
   },
   "file_extension": ".py",
   "mimetype": "text/x-python",
   "name": "python",
   "nbconvert_exporter": "python",
   "pygments_lexer": "ipython3",
   "version": "3.8.2"
  }
 },
 "nbformat": 4,
 "nbformat_minor": 4
}
