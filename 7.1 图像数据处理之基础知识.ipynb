{
 "cells": [
  {
   "cell_type": "code",
   "execution_count": null,
   "metadata": {},
   "outputs": [],
   "source": [
    "# 1. TensorFlow提供了统一的格式来存储数据  TFRecord\n",
    "\n",
    "# 2. TfRecord文件中的数据都是通过tf.train.Example Protocol Buffer 个数存储的\n",
    "\n",
    "# 3. TFRecord 完整样例 在 P171 -P173"
   ]
  },
  {
   "cell_type": "code",
   "execution_count": null,
   "metadata": {},
   "outputs": [],
   "source": [
    "# 4. TensorFlow图像数据预处理\n",
    "# a. 图像编码处理\n",
    "# b. 图像大小调整\n",
    "# c. 图像反转\n",
    "# d. 图像色彩调整\n",
    "# e. 处理标注框\n",
    "\n",
    "# 完整样例 P183 -P184"
   ]
  }
 ],
 "metadata": {
  "kernelspec": {
   "display_name": "Python 3",
   "language": "python",
   "name": "python3"
  },
  "language_info": {
   "codemirror_mode": {
    "name": "ipython",
    "version": 3
   },
   "file_extension": ".py",
   "mimetype": "text/x-python",
   "name": "python",
   "nbconvert_exporter": "python",
   "pygments_lexer": "ipython3",
   "version": "3.8.2"
  }
 },
 "nbformat": 4,
 "nbformat_minor": 4
}
