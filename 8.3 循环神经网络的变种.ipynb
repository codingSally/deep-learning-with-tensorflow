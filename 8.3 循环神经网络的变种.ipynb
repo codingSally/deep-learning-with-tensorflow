{
 "cells": [
  {
   "cell_type": "code",
   "execution_count": 1,
   "metadata": {},
   "outputs": [],
   "source": [
    "# 双层循环神经网络和深层循环神经网络\n",
    "# TF 中使用MultiRNNCell类来实现"
   ]
  },
  {
   "cell_type": "code",
   "execution_count": null,
   "metadata": {},
   "outputs": [],
   "source": [
    "# 定义一个基本的LSTM结构作为循环体的基础结构，深层循环网络也支持使用其他的循环体结构\n",
    "lstm_cell = tf.nn.rnn_cell.BasicLSTMCell\n",
    "\n",
    "# 通过MultiRNNCell 来实现深层循环神经网络中每一个时刻的前向传播过程\n",
    "stacked_lstm = tf.nn.rnn_cell.MultiRNNCell(\n",
    "    [lstm_cell(lstm_size) for _ in range(number_of_layers)])\n",
    "\n",
    "# 和经典的循环神经网络一样，可以通过zero_state函数来获取初始状态\n",
    "state = stacked_lstm.zero_state(batch_size, tf.float32)\n",
    "\n",
    "# 计算每一时刻的前向传播结果\n",
    "for i in range(len(num_steps)):\n",
    "    if i > 0 : tf.get_variable_scope().reuse_variables()\n",
    "    stacked_lstm_output, state = stacked_lstm(current_input, state)\n",
    "    final_output = fully_connected(stacked_lstm_output)\n",
    "    loss += cacl_loss(final_output, expected_output)"
   ]
  },
  {
   "cell_type": "code",
   "execution_count": null,
   "metadata": {},
   "outputs": [],
   "source": [
    "# 循环神经网络的drouput,避免过拟合\n",
    "# 卷积神经网络只在最后的全连接层中使用dropout\n",
    "# 循环神经网络一般只在不同层循环体结构之间使用dropout\n",
    "\n",
    "# Tensorflow中实现带drouput的循环神经网络\n",
    "lstm_cell = tf.nn.rnn_cell.BasicLSTMCell\n",
    "\n",
    "# 使用DropoutWrapper类来实现drouput功能\n",
    "stacked_lstm = tf.nn.rnn_cell.MultiRNNCell(\n",
    "    [tf.nn.rnn_cell.DropoutWrapper(lstm_size) for _ in range(number_of_layers)])"
   ]
  }
 ],
 "metadata": {
  "kernelspec": {
   "display_name": "Python 3",
   "language": "python",
   "name": "python3"
  },
  "language_info": {
   "codemirror_mode": {
    "name": "ipython",
    "version": 3
   },
   "file_extension": ".py",
   "mimetype": "text/x-python",
   "name": "python",
   "nbconvert_exporter": "python",
   "pygments_lexer": "ipython3",
   "version": "3.8.2"
  }
 },
 "nbformat": 4,
 "nbformat_minor": 4
}
