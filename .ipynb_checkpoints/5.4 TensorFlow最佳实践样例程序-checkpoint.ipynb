{
 "cells": [
  {
   "cell_type": "code",
   "execution_count": null,
   "metadata": {},
   "outputs": [],
   "source": [
    "# 5.1中程序可扩展性不好\n",
    "# 本节将提供重构之后的程序来解决MNIST问题。重构之后的代码将会拆分成3个程序\n",
    "# 1. 一个是mnist_inference.py,它定义了前向传播的过程以及神经网络中的参数\n",
    "# 2. 一个时mnist_train.py,它定义了神经网络的训练过程\n",
    "# 3. 一个是mnist_eval.py,它定义了测试过程\n",
    "\n",
    "# P127 - P132"
   ]
  },
  {
   "cell_type": "code",
   "execution_count": null,
   "metadata": {},
   "outputs": [],
   "source": []
  }
 ],
 "metadata": {
  "kernelspec": {
   "display_name": "Python 3",
   "language": "python",
   "name": "python3"
  },
  "language_info": {
   "codemirror_mode": {
    "name": "ipython",
    "version": 3
   },
   "file_extension": ".py",
   "mimetype": "text/x-python",
   "name": "python",
   "nbconvert_exporter": "python",
   "pygments_lexer": "ipython3",
   "version": "3.8.2"
  }
 },
 "nbformat": 4,
 "nbformat_minor": 4
}
