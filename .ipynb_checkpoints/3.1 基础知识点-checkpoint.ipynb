{
 "cells": [
  {
   "cell_type": "markdown",
   "metadata": {},
   "source": [
    "# 一、 TensorFlow计算模型 — 计算图"
   ]
  },
  {
   "cell_type": "code",
   "execution_count": null,
   "metadata": {},
   "outputs": [],
   "source": [
    "import tensorflow as tf\n",
    "\n",
    "g1 = tf.Graph()\n",
    "\n",
    "with g1.as_default():\n",
    "    # 在计算图g1中定义变量“v”,并设置初始值为0\n",
    "    v = tf.get_variable(\"v\", initializer = tf.zeros_initializer(shape = [1]))\n",
    "\n",
    "g2 = tf.Graph()\n",
    "\n",
    "with g2.as_default():\n",
    "    # 在计算图g2中定义变量“v”,并设置初始值为1\n",
    "    v = tf.get_variable(\"v\", initializer = tf.ones_initializer(shape = [1]))\n",
    "\n",
    "# 在计算图g1中读取变量“v”的值\n",
    "with tf.Session(graph = g1) as sess:\n",
    "    tf.global_variables_initializer().run()\n",
    "    with tf.variable_scope(\"\", reuse = True):\n",
    "        # 在计算图g1中，变量\"v\"的取值应该为0，所以下面这行会输出[0.]\n",
    "        print(sess.run(tf.get_variable(\"v\")))\n",
    "        \n",
    "# 在计算图g2中读取变量“v”的值\n",
    "with tf.Session(graph = g2) as sess:\n",
    "    tf.global_variables_initializer().run()\n",
    "    with tf.variable_scope(\"\", reuse = True):\n",
    "        # 在计算图g2中，变量“v”的取值应该为1，所以下面这行会输出[1.]\n",
    "        print(sess.run(tf.get_variable(\"v\")))"
   ]
  },
  {
   "cell_type": "markdown",
   "metadata": {},
   "source": [
    "# 二、 TensorFlow数据模型 — 张量"
   ]
  },
  {
   "cell_type": "code",
   "execution_count": null,
   "metadata": {},
   "outputs": [],
   "source": [
    "# 1. 张量在Tensorflow中不是直接采用数组的形式，它只是对Tensorflow中运算结果的引用\n",
    "# 2. Tensorflow中张量和Numpy中的数组不同，Tensorflow计算结果不是一个具体的数字，而是一个张量结构\n",
    "# 3. 张量结构中主要保存三个属性：名字(name)、维度(shape)、类型(type)"
   ]
  },
  {
   "cell_type": "code",
   "execution_count": 1,
   "metadata": {},
   "outputs": [
    {
     "name": "stdout",
     "output_type": "stream",
     "text": [
      "tf.Tensor([3. 5.], shape=(2,), dtype=float32)\n"
     ]
    }
   ],
   "source": [
    "import tensorflow as tf\n",
    "\n",
    "# tf.constant 是一个计算、这个计算的结果为一个张量，保存在变量a中\n",
    "a = tf.constant([1.0, 2.0], name = \"a\")\n",
    "b = tf.constant([2.0, 3.0], name = \"b\")\n",
    "\n",
    "result = tf.add(a, b, name = \"add\")\n",
    "\n",
    "print(result)"
   ]
  },
  {
   "cell_type": "markdown",
   "metadata": {},
   "source": [
    "# 三、 TensorFlow 运行模型 — 会话"
   ]
  },
  {
   "cell_type": "code",
   "execution_count": null,
   "metadata": {},
   "outputs": [],
   "source": [
    "# TensorFlow 中使用会话的模式一般有两种\n",
    "# 1. 第一种模式需要明确调用会话生成函数和关闭函数\n",
    "# 2. 第二种模式可以通过Python的上下文处理器来使用会话 -- 这样就不需要显示关闭"
   ]
  },
  {
   "cell_type": "code",
   "execution_count": null,
   "metadata": {},
   "outputs": [],
   "source": [
    "# 第一种模式\n",
    "# 创建一个会话\n",
    "sees = tf.Session()\n",
    "# 使用这个创建好的会话来得到关心的运算的结果。比如可以调用sess.run(result)\n",
    "# 来得到张量结果\n",
    "sess.run(...)\n",
    "# 关闭会话使得本次运行中使用到的资源可以被释放\n",
    "sess.close()"
   ]
  },
  {
   "cell_type": "code",
   "execution_count": null,
   "metadata": {},
   "outputs": [],
   "source": [
    "# 第二种模式\n",
    "with tf.Session() as sess:\n",
    "    # 使用创建好的会话来计算关心的结果\n",
    "    sess.run(...)\n",
    "# 不需要再次调用 Session.close() 函数来关闭会话\n",
    "# 当上下文退出时，会话关闭和资源释放也就自动完成了"
   ]
  },
  {
   "cell_type": "code",
   "execution_count": null,
   "metadata": {},
   "outputs": [],
   "source": [
    "sess = tf.Session()\n",
    "\n",
    "with sess.as_default():\n",
    "    print(result.eval())"
   ]
  },
  {
   "cell_type": "code",
   "execution_count": null,
   "metadata": {},
   "outputs": [],
   "source": [
    "# 以下代码完成相同的功能"
   ]
  },
  {
   "cell_type": "code",
   "execution_count": null,
   "metadata": {},
   "outputs": [],
   "source": [
    "sess = tf.Session()\n",
    "\n",
    "# 以下两个命令完成相同的功能\n",
    "print(sess.run(result))\n",
    "print(sess.eval(session = sess))"
   ]
  }
 ],
 "metadata": {
  "kernelspec": {
   "display_name": "Python 3",
   "language": "python",
   "name": "python3"
  },
  "language_info": {
   "codemirror_mode": {
    "name": "ipython",
    "version": 3
   },
   "file_extension": ".py",
   "mimetype": "text/x-python",
   "name": "python",
   "nbconvert_exporter": "python",
   "pygments_lexer": "ipython3",
   "version": "3.8.2"
  }
 },
 "nbformat": 4,
 "nbformat_minor": 4
}
