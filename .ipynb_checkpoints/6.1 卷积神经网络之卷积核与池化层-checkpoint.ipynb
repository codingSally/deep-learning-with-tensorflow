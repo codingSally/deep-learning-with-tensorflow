{
 "cells": [
  {
   "cell_type": "markdown",
   "metadata": {},
   "source": [
    "# 一、 卷积核"
   ]
  },
  {
   "cell_type": "code",
   "execution_count": null,
   "metadata": {},
   "outputs": [],
   "source": [
    "# 卷积神经网络  CNN\n",
    "# TensorFlow实现卷积层示例\n",
    "import tensorflow as tf"
   ]
  },
  {
   "cell_type": "code",
   "execution_count": null,
   "metadata": {},
   "outputs": [],
   "source": [
    "# 1. 通过tf.get_variable的方式创建过滤器的权重变量和偏置项变量\n",
    "filter_weight = tf.get_variable(\n",
    "    # 四维矩阵前两维代表了过滤器的尺寸，第三维表示当前层的深度，第四维度表示过滤器的深度\n",
    "    'weights', [ 5, 5, 3, 16],\n",
    "     initializer = tf.truncated_normal_initializer(stddev = 0.1))\n",
    "\n",
    "# 和卷积层的权重类似，当前层矩阵上不同位置的偏置项也是共享的，所以总共有下一层深度个不同的偏置项\n",
    "biases = tf.get_variable(\n",
    "    'biases', [16], \n",
    "     initializer = tf.constant_initializer(0.1))\n",
    "\n",
    "# 2. 实现卷积前向传播的算法 -- tf.nn.conv2d\n",
    "conv = tf.nn.conv2d(\n",
    "     input, filter_weight, strides=[1,1,1,1], padding='SAME')\n",
    "\n",
    "# 3. 添加偏置项 -- tf.nn.bias_add\n",
    "bias = tf.nn.bias_add(conv, biases)\n",
    "\n",
    "# 4. 将计算结果通过ReLU激活函数去完成去线性化\n",
    "actived_conv = tf.nn.relu(bias)"
   ]
  },
  {
   "cell_type": "markdown",
   "metadata": {},
   "source": [
    "# 二、 池化层"
   ]
  },
  {
   "cell_type": "code",
   "execution_count": 3,
   "metadata": {},
   "outputs": [],
   "source": [
    "# 池化层的过滤器除了在长和宽的维度上移动，还需要在深度的维度上移动\n",
    "# TensorFlow程序中实现最大池化层的前向传播算法"
   ]
  },
  {
   "cell_type": "code",
   "execution_count": null,
   "metadata": {},
   "outputs": [],
   "source": [
    "# tf.nn.max_pool 实现了最大池化层的前向传播，他的参数和tf.nn.conv2d函数类似\n",
    "# ksize提供了过滤器的尺寸，strides提供了步长的信息，padding提供了是否使用全0填充\n",
    "pool = tf.nn.max_pool(actived_conv, ksize = [1,3,3,1],\n",
    "                      strides = [1,2,2,1], padding='SAME')"
   ]
  }
 ],
 "metadata": {
  "kernelspec": {
   "display_name": "Python 3",
   "language": "python",
   "name": "python3"
  },
  "language_info": {
   "codemirror_mode": {
    "name": "ipython",
    "version": 3
   },
   "file_extension": ".py",
   "mimetype": "text/x-python",
   "name": "python",
   "nbconvert_exporter": "python",
   "pygments_lexer": "ipython3",
   "version": "3.8.2"
  }
 },
 "nbformat": 4,
 "nbformat_minor": 4
}
