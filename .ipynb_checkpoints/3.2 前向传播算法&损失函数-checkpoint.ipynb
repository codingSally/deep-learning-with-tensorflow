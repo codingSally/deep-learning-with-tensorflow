{
 "cells": [
  {
   "cell_type": "markdown",
   "metadata": {},
   "source": [
    "# 一、 通过变量实现神经网络的参数并实现前向传播的过程"
   ]
  },
  {
   "cell_type": "code",
   "execution_count": 12,
   "metadata": {},
   "outputs": [
    {
     "name": "stdout",
     "output_type": "stream",
     "text": [
      "[[3.957578]]\n"
     ]
    }
   ],
   "source": [
    "import tensorflow as tf\n",
    "\n",
    "# 声明w1、w2 两个变量。这里还通过seed参数设定了随即种子\n",
    "# 这样可以保证每次运行得到的结果是一样的\n",
    "w1 = tf.Variable(tf.random.normal((2, 3), stddev = 1, seed = 1))\n",
    "w2 = tf.Variable(tf.random.normal((3, 1), stddev = 1, seed = 1))\n",
    "\n",
    "# 暂时将输入的特征向量定义为一个常量。注意这里x是一个1*2的矩阵\n",
    "x = tf.constant([[0.7, 0.9]])\n",
    "\n",
    "# 通过前向传播算法获得神经网络的输出\n",
    "a = tf.matmul(x, w1)\n",
    "y = tf.matmul(a, w2)\n",
    "\n",
    "# 兼容tensorflow1.0\n",
    "tf.compat.v1.disable_eager_execution()\n",
    "sess = tf.compat.v1.Session()\n",
    "\n",
    "sess.run(w1.initializer) # 初始化w1\n",
    "sess.run(w2.initializer) # 初始化w2\n",
    "\n",
    "# 输出\n",
    "print(sess.run(y))\n",
    "\n",
    "# sess.close()"
   ]
  },
  {
   "cell_type": "code",
   "execution_count": 13,
   "metadata": {},
   "outputs": [],
   "source": [
    "# 便捷方式完成变量初始化\n",
    "init_op = tf.compat.v1.global_variables_initializer()\n",
    "sess.run(init_op)"
   ]
  },
  {
   "cell_type": "code",
   "execution_count": 14,
   "metadata": {},
   "outputs": [],
   "source": [
    "sess.close()"
   ]
  },
  {
   "cell_type": "markdown",
   "metadata": {},
   "source": [
    "# 二、 通过placeholder实现前向传播算法"
   ]
  },
  {
   "cell_type": "code",
   "execution_count": 15,
   "metadata": {},
   "outputs": [],
   "source": [
    "# placeholder 主要用来解决计算图大的问题\n",
    "# 感觉类似于指针， 详细知识点google"
   ]
  },
  {
   "cell_type": "code",
   "execution_count": null,
   "metadata": {},
   "outputs": [],
   "source": [
    "import tensorflow as tf\n",
    "\n",
    "w1 = tf.Variable(tf.random.normal((2, 3), stddev = 1, seed = 1))\n",
    "w2 = tf.Variable(tf.random.normal((3, 1), stddev = 1, seed = 1))\n",
    "\n",
    "# 定义placeholder作为存放输入数据的地方。这里维度也不一定要定义\n",
    "# 但如果维度是确定的，那么给出维度可以降低出错的概率\n",
    "x = tf.placeholder(tf.float32, shape = (1,2), name = 'input')\n",
    "a = tf.matmul(x, w1)\n",
    "y = tf.matmul(a, w2)\n",
    "\n",
    "# 兼容tensorflow1.0\n",
    "tf.compat.v1.disable_eager_execution()\n",
    "sess = tf.compat.v1.Session()\n",
    "\n",
    "init_op = tf.compat.v1.global_variables_initializer()\n",
    "sess.run(init_op)\n",
    "\n",
    "#print(sess.run(y))  -- 这样调用会报错，需要指定x的取值\n",
    "\n",
    "print(sess.run(y, feed_dict = {x : [[0.7, 0.9]]}))\n",
    "\n",
    "# feed_dict 是一个字典，在字典中需要给出每个用到的placeholder的取值"
   ]
  },
  {
   "cell_type": "code",
   "execution_count": 16,
   "metadata": {},
   "outputs": [],
   "source": [
    "# placeholder详细用法示例"
   ]
  },
  {
   "cell_type": "code",
   "execution_count": null,
   "metadata": {},
   "outputs": [],
   "source": [
    "x = tf.placeholder(tf.float32, shape = (1,2), name = 'input')\n",
    "\n",
    "# 因为x定义时，指定了n为3，所以在运行前向传播过程时需要提供3个样例数据\n",
    "print(sess.run(y, feed_dict = {x : [[0.7,0.9],[0.1,0.4],[0.5,0.8]]}))"
   ]
  },
  {
   "cell_type": "markdown",
   "metadata": {},
   "source": [
    "# 3. 损失函数定义"
   ]
  },
  {
   "cell_type": "code",
   "execution_count": 17,
   "metadata": {},
   "outputs": [],
   "source": [
    "# 损失函数：用来刻画当前预测值和真实值之间的差距"
   ]
  },
  {
   "cell_type": "code",
   "execution_count": null,
   "metadata": {},
   "outputs": [],
   "source": [
    "# 使用sigmoid函数将y转换为0-1之间的数值，转化后y代表预测是正样本的概率，1-y代表预测是负样本的概率\n",
    "y = tf.sigmoid(y)\n",
    "\n",
    "# 定义损失函数来刻画预测值和真实值之间的差距\n",
    "cross_entropy = -tf.reduce_mean(y_ * tf.log(tf.clip_by_value(y, 1e-10,1.0)) +\n",
    "                               (1-y) * tf.log(tf.clip_by_value(1-y, 1e-10, 1.0)))\n",
    "\n",
    "# 定义学习率\n",
    "learning_rate = 0.001\n",
    "\n",
    "# 定义反向传播算法来优化神经网络中的参数\n",
    "train_step = tf.train.AdamOptimizer(learning_rate).minimize(cross_entropy)"
   ]
  }
 ],
 "metadata": {
  "kernelspec": {
   "display_name": "Python 3",
   "language": "python",
   "name": "python3"
  },
  "language_info": {
   "codemirror_mode": {
    "name": "ipython",
    "version": 3
   },
   "file_extension": ".py",
   "mimetype": "text/x-python",
   "name": "python",
   "nbconvert_exporter": "python",
   "pygments_lexer": "ipython3",
   "version": "3.8.2"
  }
 },
 "nbformat": 4,
 "nbformat_minor": 4
}
